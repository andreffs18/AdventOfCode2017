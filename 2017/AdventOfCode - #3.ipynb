{
 "cells": [
  {
   "cell_type": "markdown",
   "metadata": {},
   "source": [
    "# Advent Day #3"
   ]
  },
  {
   "cell_type": "markdown",
   "metadata": {},
   "source": [
    "# Puzzle 3.1"
   ]
  },
  {
   "cell_type": "code",
   "execution_count": 22,
   "metadata": {},
   "outputs": [],
   "source": [
    "#!/usr/bin/env python\n",
    "NORTH, S, W, E = (0, 1), (0, -1), (-1, 0), (1, 0) # directions\n",
    "turn_right = {NORTH: E, E: S, S: W, W: NORTH} # old -> new direction\n",
    "\n",
    "def spiral(width, height):\n",
    "    if width < 1 or height < 1:\n",
    "        raise ValueError\n",
    "    x, y = width // 2, height // 2 # start near the center\n",
    "    dx, dy = NORTH # initial direction\n",
    "    matrix = [[None] * width for _ in range(height)]\n",
    "    count = 0\n",
    "    while True:\n",
    "        count += 1\n",
    "        matrix[y][x] = count # visit\n",
    "        # try to turn right\n",
    "        new_dx, new_dy = turn_right[(dx, dy)]\n",
    "        new_x, new_y = x + new_dx, y + new_dy\n",
    "        if (0 <= new_x < width and 0 <= new_y < height and matrix[new_y][new_x] is None): # can turn right\n",
    "            x, y = new_x, new_y\n",
    "            dx, dy = new_dx, new_dy\n",
    "        else: # try to move straight\n",
    "            x, y = x + dx, y + dy\n",
    "            if not (0 <= x < width and 0 <= y < height):\n",
    "                return matrix # nowhere to go\n",
    "\n",
    "def get_position(spiral, initial_position):\n",
    "        size = len(spiral)\n",
    "        for i in range(size):\n",
    "            for j in range(size):\n",
    "                if spiral[i][j] == initial_position:\n",
    "                    return i, j\n",
    "            \n",
    "def print_matrix(matrix):\n",
    "    width = len(str(max(el for row in matrix for el in row if el is not None)))\n",
    "    fmt = \"{:%dd}\" % width\n",
    "    for row in matrix:\n",
    "        print(\" \".join(\"_\"*width if el is None else fmt.format(el) for el in row))"
   ]
  },
  {
   "cell_type": "code",
   "execution_count": 23,
   "metadata": {},
   "outputs": [],
   "source": [
    "def get_steps(spiral, initial_position):\n",
    "                \n",
    "    def get_adjacent(i, j):\n",
    "        try:\n",
    "            return spiral[i][j]\n",
    "        except:\n",
    "            return 999999999999\n",
    "\n",
    "    i, j = get_position(spiral, initial_position)\n",
    "    pos = spiral[i][j]\n",
    "    \n",
    "    n = get_adjacent(i, j + 1)\n",
    "    s = get_adjacent(i, j - 1)\n",
    "    e = get_adjacent(i + 1, j)\n",
    "    o = get_adjacent(i - 1, j)\n",
    "    next_pos = min(min(min(n, s), e), o)\n",
    "    if next_pos == 1:\n",
    "        return next_pos\n",
    "\n",
    "    return 1 + get_steps(spiral, next_pos)"
   ]
  },
  {
   "cell_type": "code",
   "execution_count": 49,
   "metadata": {},
   "outputs": [
    {
     "data": {
      "text/plain": [
       "326"
      ]
     },
     "execution_count": 49,
     "metadata": {},
     "output_type": "execute_result"
    }
   ],
   "source": [
    "s = spiral(750, 750)\n",
    "get_steps(s, 361527)"
   ]
  },
  {
   "cell_type": "markdown",
   "metadata": {},
   "source": [
    "# Puzzle 3.2"
   ]
  },
  {
   "cell_type": "code",
   "execution_count": 47,
   "metadata": {},
   "outputs": [],
   "source": [
    "def spiral2(width, height, maximum=-1):\n",
    "    if width < 1 or height < 1:\n",
    "        raise ValueError\n",
    "        \n",
    "    x, y = width // 2, height // 2 # start near the center\n",
    "    dx, dy = NORTH # initial direction\n",
    "    matrix = [[None] * width for _ in range(height)]\n",
    "\n",
    "    while True:\n",
    "        matrix[y][x] = max(1, get_sum_neighbours(matrix, y, x))\n",
    "        if matrix[y][x] > maximum:\n",
    "            matrix[y][x] = \">{}<\".format(matrix[y][x])\n",
    "            return matrix\n",
    "        # try to turn right\n",
    "        new_dx, new_dy = turn_right[(dx, dy)]\n",
    "        new_x, new_y = x + new_dx, y + new_dy\n",
    "        if (0 <= new_x < width and 0 <= new_y < height and matrix[new_y][new_x] is None): # can turn right\n",
    "            x, y = new_x, new_y\n",
    "            dx, dy = new_dx, new_dy\n",
    "        else: # try to move straight\n",
    "            x, y = x + dx, y + dy\n",
    "            if not (0 <= x < width and 0 <= y < height):\n",
    "                return matrix # nowhere to go\n",
    "\n",
    "def get_sum_neighbours(matrix, y, x):\n",
    "    \"\"\"\n",
    "    From given position X, find coordinates x, y\n",
    "    | (x - 1 , y - 1) | (x , y - 1) | (x + 1 , y - 1) |\n",
    "    |   (x - 1 , y)   |    (x, y)   |   (x + 1 , y)   |\n",
    "    | (x - 1 , y + 1) | (x , y - 1) | (x + 1 , y + 1) |\n",
    "    \n",
    "    and sum all it's values\n",
    "    \"\"\"\n",
    "    \n",
    "    def get_adjacent(y, x):\n",
    "        try:\n",
    "            return matrix[y][x] or 0\n",
    "        except:\n",
    "            return 0\n",
    "        \n",
    "    s = get_adjacent(y + 1, x)\n",
    "    se = get_adjacent(y + 1, x + 1)\n",
    "    e = get_adjacent(y, x + 1)\n",
    "    ne = get_adjacent(y - 1, x + 1)\n",
    "    n = get_adjacent(y - 1, x)\n",
    "    no = get_adjacent(y - 1, x - 1)\n",
    "    o = get_adjacent(y, x - 1)\n",
    "    so = get_adjacent(y + 1, x - 1)\n",
    "    neighbours = [\n",
    "        [no, n, ne],\n",
    "        [o, 0, e],\n",
    "        [so, s, se]\n",
    "    ]\n",
    "    return sum(sum(neighbours, []))"
   ]
  },
  {
   "cell_type": "code",
   "execution_count": 48,
   "metadata": {},
   "outputs": [
    {
     "data": {
      "text/plain": [
       "[[None, None, None, None, None, None, None, None, None, None],\n",
       " [None,\n",
       "  None,\n",
       "  '>363010<',\n",
       "  349975,\n",
       "  330785,\n",
       "  312453,\n",
       "  295229,\n",
       "  279138,\n",
       "  266330,\n",
       "  130654],\n",
       " [None, None, 6591, 6444, 6155, 5733, 5336, 5022, 2450, 128204],\n",
       " [None, None, 13486, 147, 142, 133, 122, 59, 2391, 123363],\n",
       " [None, None, 14267, 304, 5, 4, 2, 57, 2275, 116247],\n",
       " [None, None, 15252, 330, 10, 1, 1, 54, 2105, 109476],\n",
       " [None, None, 16295, 351, 11, 23, 25, 26, 1968, 103128],\n",
       " [None, None, 17008, 362, 747, 806, 880, 931, 957, 98098],\n",
       " [None, None, 17370, 35487, 37402, 39835, 42452, 45220, 47108, 48065],\n",
       " [None, None, None, None, None, None, None, None, None, None]]"
      ]
     },
     "execution_count": 48,
     "metadata": {},
     "output_type": "execute_result"
    }
   ],
   "source": [
    "spiral2(10, 10, 361527)"
   ]
  },
  {
   "cell_type": "code",
   "execution_count": null,
   "metadata": {},
   "outputs": [],
   "source": [
    "\n"
   ]
  },
  {
   "cell_type": "code",
   "execution_count": null,
   "metadata": {},
   "outputs": [],
   "source": []
  },
  {
   "cell_type": "code",
   "execution_count": null,
   "metadata": {},
   "outputs": [],
   "source": []
  },
  {
   "cell_type": "code",
   "execution_count": null,
   "metadata": {},
   "outputs": [],
   "source": []
  },
  {
   "cell_type": "code",
   "execution_count": null,
   "metadata": {},
   "outputs": [],
   "source": []
  },
  {
   "cell_type": "code",
   "execution_count": null,
   "metadata": {},
   "outputs": [],
   "source": []
  },
  {
   "cell_type": "code",
   "execution_count": null,
   "metadata": {},
   "outputs": [],
   "source": []
  },
  {
   "cell_type": "code",
   "execution_count": null,
   "metadata": {},
   "outputs": [],
   "source": []
  },
  {
   "cell_type": "code",
   "execution_count": null,
   "metadata": {},
   "outputs": [],
   "source": []
  },
  {
   "cell_type": "code",
   "execution_count": null,
   "metadata": {},
   "outputs": [],
   "source": []
  },
  {
   "cell_type": "code",
   "execution_count": null,
   "metadata": {},
   "outputs": [],
   "source": []
  },
  {
   "cell_type": "code",
   "execution_count": null,
   "metadata": {},
   "outputs": [],
   "source": []
  },
  {
   "cell_type": "code",
   "execution_count": null,
   "metadata": {},
   "outputs": [],
   "source": []
  },
  {
   "cell_type": "code",
   "execution_count": null,
   "metadata": {},
   "outputs": [],
   "source": []
  },
  {
   "cell_type": "code",
   "execution_count": null,
   "metadata": {},
   "outputs": [],
   "source": []
  },
  {
   "cell_type": "code",
   "execution_count": null,
   "metadata": {},
   "outputs": [],
   "source": []
  },
  {
   "cell_type": "code",
   "execution_count": null,
   "metadata": {},
   "outputs": [],
   "source": []
  }
 ],
 "metadata": {
  "kernelspec": {
   "display_name": "Python 3",
   "language": "python",
   "name": "python3"
  },
  "language_info": {
   "codemirror_mode": {
    "name": "ipython",
    "version": 3
   },
   "file_extension": ".py",
   "mimetype": "text/x-python",
   "name": "python",
   "nbconvert_exporter": "python",
   "pygments_lexer": "ipython3",
   "version": "3.6.5"
  }
 },
 "nbformat": 4,
 "nbformat_minor": 2
}
