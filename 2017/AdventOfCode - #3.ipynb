{
 "cells": [
  {
   "cell_type": "markdown",
   "metadata": {},
   "source": [
    "# Advent Day #3"
   ]
  },
  {
   "cell_type": "code",
   "execution_count": 11,
   "metadata": {},
   "outputs": [],
   "source": [
    "#!/usr/bin/env python\n",
    "NORTH, S, W, E = (0, -1), (0, 1), (-1, 0), (1, 0) # directions\n",
    "turn_right = {S: E, E: NORTH, NORTH: W, W: S} # old -> new direction\n",
    "turn_left = {S: W, W: NORTH, NORTH: E, E: S} # old -> new direction\n",
    "\n",
    "def spiral(width, height, turn=turn_left):\n",
    "    if width < 1 or height < 1:\n",
    "        raise ValueError\n",
    "    x, y = width // 2, height // 2 # start near the center\n",
    "    dx, dy = NORTH # initial direction\n",
    "    matrix = [[None] * width for _ in range(height)]\n",
    "    count = 0\n",
    "    while True:\n",
    "        count += 1\n",
    "        matrix[y][x] = count # visit\n",
    "        # try to turn\n",
    "        new_dx, new_dy = turn[dx,dy]\n",
    "        new_x, new_y = x + new_dx, y + new_dy\n",
    "        if (0 <= new_x < width and 0 <= new_y < height and\n",
    "            matrix[new_y][new_x] is None): # can turn\n",
    "            x, y = new_x, new_y\n",
    "            dx, dy = new_dx, new_dy\n",
    "        else: # try to move straight\n",
    "            x, y = x + dx, y + dy\n",
    "            if not (0 <= x < width and 0 <= y < height):\n",
    "                return matrix # nowhere to go\n",
    "\n",
    "def print_matrix(matrix):\n",
    "    width = len(str(max(el for row in matrix for el in row if el is not None)))\n",
    "    fmt = \"{:0%dd}\" % width\n",
    "    for row in matrix:\n",
    "        print(\" \".join(\"_\"*width if el is None else fmt.format(el) for el in row))"
   ]
  },
  {
   "cell_type": "code",
   "execution_count": 26,
   "metadata": {},
   "outputs": [],
   "source": [
    "# convert string into list of lists\n",
    "def get_steps(spiral, i):\n",
    "    \n",
    "    def get_i_position(spiral, i):\n",
    "        size = len(spiral)\n",
    "        for i in range(size):\n",
    "            for j in range(size):\n",
    "                if spiral[i][j] == i:\n",
    "                    return i, j\n",
    "\n",
    "    i, j = get_i_position(spiral, i)\n",
    "    pos = spiral[i][j]\n",
    "\n",
    "    print(len(spiral) / 2)\n",
    "            "
   ]
  },
  {
   "cell_type": "code",
   "execution_count": 27,
   "metadata": {},
   "outputs": [],
   "source": [
    "s = spiral(1000, 1000, turn_left) "
   ]
  },
  {
   "cell_type": "code",
   "execution_count": 28,
   "metadata": {},
   "outputs": [
    {
     "name": "stdout",
     "output_type": "stream",
     "text": [
      "500.0\n"
     ]
    }
   ],
   "source": [
    "get_steps(s, 361527)"
   ]
  },
  {
   "cell_type": "code",
   "execution_count": null,
   "metadata": {},
   "outputs": [],
   "source": [
    "def manhattan_distance(state):\n",
    "    distance = 0\n",
    "    for x in xrange(3):\n",
    "        for y in xrange(3):\n",
    "            value = state[x][y]\n",
    "            x_value = x\n",
    "            y_value = y\n",
    "            x_goal = \n",
    "            y_goal = \n",
    "            distance += abs(x_value - x_goal) + abs(y_value - y_goal)\n",
    "    return distance"
   ]
  }
 ],
 "metadata": {
  "kernelspec": {
   "display_name": "Python 3",
   "language": "python",
   "name": "python3"
  },
  "language_info": {
   "codemirror_mode": {
    "name": "ipython",
    "version": 3
   },
   "file_extension": ".py",
   "mimetype": "text/x-python",
   "name": "python",
   "nbconvert_exporter": "python",
   "pygments_lexer": "ipython3",
   "version": "3.6.5"
  }
 },
 "nbformat": 4,
 "nbformat_minor": 2
}
